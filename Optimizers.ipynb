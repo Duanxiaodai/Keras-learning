{
 "cells": [
  {
   "cell_type": "markdown",
   "metadata": {},
   "source": [
    "你可以先实例化一个优化器对象，然后将它传入model.compile()， 或者你可以通过名称来调用优化器。在后一种情况下，将使用优化器的默认参数。"
   ]
  },
  {
   "cell_type": "code",
   "execution_count": 3,
   "metadata": {
    "collapsed": false
   },
   "outputs": [
    {
     "name": "stdout",
     "output_type": "stream",
     "text": [
      "['Adadelta', 'Adagrad', 'Adam', 'Adamax', 'K', 'Nadam', 'Optimizer', 'RMSprop', 'SGD', 'TFOptimizer', '__builtins__', '__cached__', '__doc__', '__file__', '__loader__', '__name__', '__package__', '__spec__', 'absolute_import', 'adadelta', 'adagrad', 'adam', 'adamax', 'clip_norm', 'copy', 'deserialize', 'deserialize_keras_object', 'get', 'interfaces', 'nadam', 'rmsprop', 'serialize', 'serialize_keras_object', 'sgd', 'six', 'tf', 'zip']\n"
     ]
    }
   ],
   "source": [
    "from keras.models import Sequential \n",
    "from keras import optimizers\n",
    "from keras.layers import Dense,Activation\n",
    "\n",
    "model = Sequential()\n",
    "model.add(Dense(64, kernel_initializer='uniform', input_shape=(10,)))\n",
    "model.add(Activation('tanh'))\n",
    "model.add(Activation('softmax'))\n",
    "\n",
    "sgd = optimizers.SGD(lr=0.01, decay=1e-6, momentum=0.9, nesterov=True)\n",
    "model.compile(loss='mean_squared_error', optimizer=sgd)\n",
    "print(dir(optimizers))"
   ]
  },
  {
   "cell_type": "code",
   "execution_count": null,
   "metadata": {
    "collapsed": true
   },
   "outputs": [],
   "source": []
  }
 ],
 "metadata": {
  "anaconda-cloud": {},
  "kernelspec": {
   "display_name": "Python [conda root]",
   "language": "python",
   "name": "conda-root-py"
  },
  "language_info": {
   "codemirror_mode": {
    "name": "ipython",
    "version": 3
   },
   "file_extension": ".py",
   "mimetype": "text/x-python",
   "name": "python",
   "nbconvert_exporter": "python",
   "pygments_lexer": "ipython3",
   "version": "3.5.2"
  }
 },
 "nbformat": 4,
 "nbformat_minor": 1
}
