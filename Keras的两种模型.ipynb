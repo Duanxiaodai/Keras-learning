{
 "cells": [
  {
   "cell_type": "code",
   "execution_count": 24,
   "metadata": {
    "collapsed": false
   },
   "outputs": [
    {
     "name": "stdout",
     "output_type": "stream",
     "text": [
      "_________________________________________________________________\n",
      "Layer (type)                 Output Shape              Param #   \n",
      "=================================================================\n",
      "dense_47 (Dense)             (None, 3)                 33        \n",
      "_________________________________________________________________\n",
      "dense_48 (Dense)             (None, 1)                 4         \n",
      "=================================================================\n",
      "Total params: 37\n",
      "Trainable params: 37\n",
      "Non-trainable params: 0\n",
      "_________________________________________________________________\n",
      "None\n",
      "_________________________________________________________________\n",
      "Layer (type)                 Output Shape              Param #   \n",
      "=================================================================\n",
      "input_11 (InputLayer)        (None, 10)                0         \n",
      "_________________________________________________________________\n",
      "dense_49 (Dense)             (None, 3)                 33        \n",
      "_________________________________________________________________\n",
      "dense_50 (Dense)             (None, 1)                 4         \n",
      "=================================================================\n",
      "Total params: 37\n",
      "Trainable params: 37\n",
      "Non-trainable params: 0\n",
      "_________________________________________________________________\n",
      "None\n"
     ]
    }
   ],
   "source": [
    "from keras.models import Sequential,Model,model_from_json\n",
    "from keras.layers import Dense,Input\n",
    "\n",
    "model1 = Sequential()\n",
    "model1.add(Dense(units=3,activation='relu',input_dim=10))\n",
    "model1.add(Dense(units=1,activation='sigmoid'))\n",
    "print(model1.summary() )\n",
    "\n",
    "X = Input(shape=(10,))\n",
    "layer1 = Dense(3,activation='relu')(X)\n",
    "out = Dense(1,activation='sigmoid')(layer1)\n",
    "\n",
    "model2 = Model(X,out)\n",
    "\n",
    "print(model2.summary() )\n"
   ]
  },
  {
   "cell_type": "code",
   "execution_count": 21,
   "metadata": {
    "collapsed": false
   },
   "outputs": [
    {
     "name": "stdout",
     "output_type": "stream",
     "text": [
      "[{'config': {'activity_regularizer': None, 'name': 'dense_43', 'use_bias': True, 'kernel_initializer': {'config': {'seed': None, 'mode': 'fan_avg', 'distribution': 'uniform', 'scale': 1.0}, 'class_name': 'VarianceScaling'}, 'trainable': True, 'kernel_regularizer': None, 'units': 3, 'batch_input_shape': (None, 10), 'activation': 'relu', 'bias_initializer': {'config': {}, 'class_name': 'Zeros'}, 'dtype': 'float32', 'bias_regularizer': None, 'bias_constraint': None, 'kernel_constraint': None}, 'class_name': 'Dense'}, {'config': {'activity_regularizer': None, 'name': 'dense_44', 'use_bias': True, 'kernel_initializer': {'config': {'seed': None, 'mode': 'fan_avg', 'distribution': 'uniform', 'scale': 1.0}, 'class_name': 'VarianceScaling'}, 'trainable': True, 'kernel_regularizer': None, 'units': 1, 'activation': 'sigmoid', 'bias_initializer': {'config': {}, 'class_name': 'Zeros'}, 'bias_regularizer': None, 'bias_constraint': None, 'kernel_constraint': None}, 'class_name': 'Dense'}]\n"
     ]
    }
   ],
   "source": [
    "config = model1.get_config()\n",
    "print(config)\n",
    "# model11 = Model.from_config(config)\n",
    "\n",
    "# # 或者，对于 Sequential:\n",
    "# config2 = model2.get_config()\n",
    "# model22 = Sequential.from_config(config2)\n",
    "\n",
    "# print(model11)\n",
    "# print(model22)\n"
   ]
  },
  {
   "cell_type": "code",
   "execution_count": 28,
   "metadata": {
    "collapsed": false
   },
   "outputs": [
    {
     "name": "stdout",
     "output_type": "stream",
     "text": [
      "{\"backend\": \"tensorflow\", \"keras_version\": \"2.0.6\", \"config\": [{\"config\": {\"activity_regularizer\": null, \"name\": \"dense_47\", \"use_bias\": true, \"kernel_initializer\": {\"config\": {\"seed\": null, \"mode\": \"fan_avg\", \"distribution\": \"uniform\", \"scale\": 1.0}, \"class_name\": \"VarianceScaling\"}, \"trainable\": true, \"kernel_regularizer\": null, \"units\": 3, \"batch_input_shape\": [null, 10], \"activation\": \"relu\", \"bias_initializer\": {\"config\": {}, \"class_name\": \"Zeros\"}, \"dtype\": \"float32\", \"bias_regularizer\": null, \"bias_constraint\": null, \"kernel_constraint\": null}, \"class_name\": \"Dense\"}, {\"config\": {\"activity_regularizer\": null, \"name\": \"dense_48\", \"use_bias\": true, \"kernel_initializer\": {\"config\": {\"seed\": null, \"mode\": \"fan_avg\", \"distribution\": \"uniform\", \"scale\": 1.0}, \"class_name\": \"VarianceScaling\"}, \"trainable\": true, \"kernel_regularizer\": null, \"units\": 1, \"activation\": \"sigmoid\", \"bias_initializer\": {\"config\": {}, \"class_name\": \"Zeros\"}, \"bias_regularizer\": null, \"bias_constraint\": null, \"kernel_constraint\": null}, \"class_name\": \"Dense\"}], \"class_name\": \"Sequential\"}\n",
      "_________________________________________________________________\n",
      "Layer (type)                 Output Shape              Param #   \n",
      "=================================================================\n",
      "dense_47 (Dense)             (None, 3)                 33        \n",
      "_________________________________________________________________\n",
      "dense_48 (Dense)             (None, 1)                 4         \n",
      "=================================================================\n",
      "Total params: 37\n",
      "Trainable params: 37\n",
      "Non-trainable params: 0\n",
      "_________________________________________________________________\n",
      "None\n"
     ]
    }
   ],
   "source": [
    "json_string = model1.to_json()\n",
    "model = model_from_json(json_string)\n",
    "print(json_string)\n",
    "print(model.summary())"
   ]
  },
  {
   "cell_type": "code",
   "execution_count": null,
   "metadata": {
    "collapsed": true
   },
   "outputs": [],
   "source": []
  }
 ],
 "metadata": {
  "anaconda-cloud": {},
  "kernelspec": {
   "display_name": "Python [conda root]",
   "language": "python",
   "name": "conda-root-py"
  },
  "language_info": {
   "codemirror_mode": {
    "name": "ipython",
    "version": 3
   },
   "file_extension": ".py",
   "mimetype": "text/x-python",
   "name": "python",
   "nbconvert_exporter": "python",
   "pygments_lexer": "ipython3",
   "version": "3.5.2"
  }
 },
 "nbformat": 4,
 "nbformat_minor": 1
}
