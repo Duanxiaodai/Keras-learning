{
 "cells": [
  {
   "cell_type": "code",
   "execution_count": 21,
   "metadata": {
    "collapsed": false
   },
   "outputs": [
    {
     "name": "stdout",
     "output_type": "stream",
     "text": [
      "Epoch 1/10\n",
      "100/100 [==============================] - 1s - loss: 0.6933 - acc: 0.0000e+00     \n",
      "Epoch 2/10\n",
      "100/100 [==============================] - 0s - loss: 0.6914 - acc: 0.0000e+00     \n",
      "Epoch 3/10\n",
      "100/100 [==============================] - 0s - loss: 0.6935 - acc: 0.0000e+00     \n",
      "Epoch 4/10\n",
      "100/100 [==============================] - 0s - loss: 0.6915 - acc: 0.0000e+00     \n",
      "Epoch 5/10\n",
      "100/100 [==============================] - 0s - loss: 0.6906 - acc: 0.0000e+00     \n",
      "Epoch 6/10\n",
      "100/100 [==============================] - 0s - loss: 0.6912 - acc: 0.0000e+00     \n",
      "Epoch 7/10\n",
      "100/100 [==============================] - 0s - loss: 0.6913 - acc: 0.0000e+00     \n",
      "Epoch 8/10\n",
      "100/100 [==============================] - 0s - loss: 0.6920 - acc: 0.0000e+00     \n",
      "Epoch 9/10\n",
      "100/100 [==============================] - 0s - loss: 0.6911 - acc: 0.0000e+00     \n",
      "Epoch 10/10\n",
      "100/100 [==============================] - 0s - loss: 0.6909 - acc: 0.0000e+00     \n",
      "16/20 [=======================>......] - ETA: 0s"
     ]
    }
   ],
   "source": [
    "from keras.models import Sequential\n",
    "from keras.layers import Dense, Dropout\n",
    "from keras.layers import Embedding\n",
    "from keras.layers import LSTM\n",
    "import numpy as np\n",
    "import keras\n",
    "# Generate  data\n",
    "x_train = np.random.random((100, 1))\n",
    "y_train = np.random.random((100, 1))\n",
    "\n",
    "x_test = np.random.random((20, 1))\n",
    "y_test = np.random.random((20, 1))\n",
    "\n",
    "model = Sequential()\n",
    "model.add(Embedding(1000, output_dim=256))\n",
    "model.add(LSTM(128))\n",
    "model.add(Dropout(0.5))\n",
    "model.add(Dense(1, activation='sigmoid'))\n",
    "\n",
    "model.compile(loss='binary_crossentropy',\n",
    "              optimizer='rmsprop',\n",
    "              metrics=['accuracy'])\n",
    "\n",
    "model.fit(x_train, y_train, batch_size=16, epochs=10)\n",
    "score = model.evaluate(x_test, y_test, batch_size=16)\n"
   ]
  },
  {
   "cell_type": "code",
   "execution_count": 17,
   "metadata": {
    "collapsed": false
   },
   "outputs": [
    {
     "name": "stdout",
     "output_type": "stream",
     "text": [
      "[[ 0.03350211 -0.04146602 -0.00207807]\n",
      " [ 0.03350211 -0.04146602 -0.00207807]\n",
      " [ 0.03350211 -0.04146602 -0.00207807]\n",
      " [ 0.03350211 -0.04146602 -0.00207807]]\n",
      "_________________________________________________________________\n",
      "Layer (type)                 Output Shape              Param #   \n",
      "=================================================================\n",
      "embedding_12 (Embedding)     (None, None, 3)           15        \n",
      "_________________________________________________________________\n",
      "my_mean_pool_8 (MyMeanPool)  (None, 3)                 0         \n",
      "=================================================================\n",
      "Total params: 15\n",
      "Trainable params: 15\n",
      "Non-trainable params: 0\n",
      "_________________________________________________________________\n",
      "None\n"
     ]
    }
   ],
   "source": [
    "from keras import backend as K\n",
    "from keras.engine.topology import Layer\n",
    "import tensorflow as tf\n",
    "from keras.layers import AvgPool1D\n",
    "\n",
    "class MyMeanPool(Layer):\n",
    "    def __init__(self, axis, **kwargs):\n",
    "        self.supports_masking = True\n",
    "        self.axis = axis\n",
    "        super(MyMeanPool, self).__init__(**kwargs)\n",
    "\n",
    "    def compute_mask(self, input, input_mask=None):\n",
    "        # need not to pass the mask to next layers\n",
    "        return None\n",
    "\n",
    "    def call(self, x, mask=None):\n",
    "        if mask is not None:\n",
    "            mask = K.repeat(mask, x.shape[-1])\n",
    "            mask = tf.transpose(mask, [0,2,1])\n",
    "            mask = K.cast(mask, K.floatx())\n",
    "            x = x * mask\n",
    "            return K.sum(x, axis=self.axis) / K.sum(mask, axis=self.axis)\n",
    "        else:\n",
    "            return K.mean(x, axis=self.axis)\n",
    "\n",
    "    def compute_output_shape(self, input_shape):\n",
    "        output_shape = []\n",
    "        for i in range(len(input_shape)):\n",
    "            if i!=self.axis:\n",
    "                output_shape.append(input_shape[i])\n",
    "        return tuple(output_shape)\n",
    "\n",
    "ID_seq0 = [1, 0, 0, 0]\n",
    "ID_seq1 = [1, 1, 0, 0]\n",
    "ID_seq2 = [1, 1, 1, 0]\n",
    "ID_seq3 = [1, 1, 1, 1]\n",
    "data = np.array([ID_seq0, ID_seq1, ID_seq2, ID_seq3])\n",
    "\n",
    "model = Sequential()\n",
    "model.add(Embedding(5, 3, mask_zero=True))\n",
    "model.add(MyMeanPool(1))\n",
    "\n",
    "result = model.predict(data[3])\n",
    "print(result)\n",
    "print (model.summary())\n"
   ]
  },
  {
   "cell_type": "code",
   "execution_count": null,
   "metadata": {
    "collapsed": true
   },
   "outputs": [],
   "source": []
  }
 ],
 "metadata": {
  "anaconda-cloud": {},
  "kernelspec": {
   "display_name": "Python [conda root]",
   "language": "python",
   "name": "conda-root-py"
  },
  "language_info": {
   "codemirror_mode": {
    "name": "ipython",
    "version": 3
   },
   "file_extension": ".py",
   "mimetype": "text/x-python",
   "name": "python",
   "nbconvert_exporter": "python",
   "pygments_lexer": "ipython3",
   "version": "3.5.2"
  }
 },
 "nbformat": 4,
 "nbformat_minor": 1
}
