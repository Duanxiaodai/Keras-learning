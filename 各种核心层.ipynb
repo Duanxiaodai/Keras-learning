{
 "cells": [
  {
   "cell_type": "code",
   "execution_count": 38,
   "metadata": {
    "collapsed": false
   },
   "outputs": [
    {
     "name": "stdout",
     "output_type": "stream",
     "text": [
      "_________________________________________________________________\n",
      "Layer (type)                 Output Shape              Param #   \n",
      "=================================================================\n",
      "duan (Conv2D)                (None, 3, 32, 64)         18496     \n",
      "_________________________________________________________________\n",
      "flatten_16 (Flatten)         (None, 6144)              0         \n",
      "=================================================================\n",
      "Total params: 18,496\n",
      "Trainable params: 18,496\n",
      "Non-trainable params: 0\n",
      "_________________________________________________________________\n",
      "None\n"
     ]
    },
    {
     "data": {
      "text/plain": [
       "(64,)"
      ]
     },
     "execution_count": 38,
     "metadata": {},
     "output_type": "execute_result"
    }
   ],
   "source": [
    "from keras.models import Sequential\n",
    "from keras.layers import Conv2D,Flatten,Reshape\n",
    "import numpy as np\n",
    "model = Sequential()\n",
    "model.add(Conv2D(64, (3, 3),\n",
    "                 padding='same',\n",
    "                 input_shape=(3, 32, 32),name = 'duan'))\n",
    "# 现在：model.output_shape == (None, 64, 32, 32)\n",
    "\n",
    "model.add(Flatten())\n",
    "print(model.summary())\n",
    "temp = model.get_layer('duan').get_weights()\n",
    "temp[1].shape"
   ]
  },
  {
   "cell_type": "code",
   "execution_count": 7,
   "metadata": {
    "collapsed": false
   },
   "outputs": [
    {
     "name": "stdout",
     "output_type": "stream",
     "text": [
      "_________________________________________________________________\n",
      "Layer (type)                 Output Shape              Param #   \n",
      "=================================================================\n",
      "reshape_1 (Reshape)          (None, 3, 4)              0         \n",
      "_________________________________________________________________\n",
      "reshape_2 (Reshape)          (None, 6, 2)              0         \n",
      "_________________________________________________________________\n",
      "reshape_3 (Reshape)          (None, 3, 2, 2)           0         \n",
      "_________________________________________________________________\n",
      "flatten_7 (Flatten)          (None, 12)                0         \n",
      "_________________________________________________________________\n",
      "reshape_4 (Reshape)          (None, 12)                0         \n",
      "=================================================================\n",
      "Total params: 0\n",
      "Trainable params: 0\n",
      "Non-trainable params: 0\n",
      "_________________________________________________________________\n",
      "None\n"
     ]
    }
   ],
   "source": [
    "# 作为 Sequential 模型的第一层\n",
    "model = Sequential()\n",
    "model.add(Reshape((3, 4), input_shape=(12,)))\n",
    "# 现在：model.output_shape == (None, 3, 4)\n",
    "# 注意： `None` 是批表示的维度\n",
    "\n",
    "# 作为 Sequential 模型的中间层\n",
    "model.add(Reshape((6, 2)))\n",
    "# 现在： model.output_shape == (None, 6, 2)\n",
    "\n",
    "# 还支持使用 `-1` 表示维度的尺寸推断\n",
    "model.add(Reshape((-1, 2, 2)))\n",
    "model.add(Flatten())\n",
    "# 现在： model.output_shape == (None, 3, 2, 2)\n",
    "model.add(Reshape((12,)))\n",
    "print(model.summary())\n"
   ]
  },
  {
   "cell_type": "code",
   "execution_count": null,
   "metadata": {
    "collapsed": false
   },
   "outputs": [],
   "source": []
  },
  {
   "cell_type": "code",
   "execution_count": 34,
   "metadata": {
    "collapsed": false
   },
   "outputs": [
    {
     "name": "stdout",
     "output_type": "stream",
     "text": [
      "(32, 32)\n",
      "_________________________________________________________________\n",
      "Layer (type)                 Output Shape              Param #   \n",
      "=================================================================\n",
      "dense_31 (Dense)             (None, 32)                544       \n",
      "_________________________________________________________________\n",
      "dense_32 (Dense)             (None, 32)                1056      \n",
      "_________________________________________________________________\n",
      "repeat_vector_2 (RepeatVecto (None, 3, 32)             0         \n",
      "=================================================================\n",
      "Total params: 1,600\n",
      "Trainable params: 1,600\n",
      "Non-trainable params: 0\n",
      "_________________________________________________________________\n",
      "None\n"
     ]
    }
   ],
   "source": [
    "from keras.layers import Dense,RepeatVector\n",
    "model = Sequential()\n",
    "model.add(Dense(32, input_shape=(16,)))\n",
    "# 现在模型就会以尺寸为 (*, 16) 的数组作为输入，\n",
    "# 其输出数组的尺寸为 (*, 32)\n",
    "\n",
    "# 在第一层之后，你就不再需要指定输入的尺寸了：\n",
    "model.add(Dense(32))\n",
    "model.add(RepeatVector(3))\n",
    "print(model.get_layer(index=2).get_weights()[0].shape)\n",
    "print(model.summary())"
   ]
  },
  {
   "cell_type": "code",
   "execution_count": null,
   "metadata": {
    "collapsed": true
   },
   "outputs": [],
   "source": []
  }
 ],
 "metadata": {
  "anaconda-cloud": {},
  "kernelspec": {
   "display_name": "Python [conda root]",
   "language": "python",
   "name": "conda-root-py"
  },
  "language_info": {
   "codemirror_mode": {
    "name": "ipython",
    "version": 3
   },
   "file_extension": ".py",
   "mimetype": "text/x-python",
   "name": "python",
   "nbconvert_exporter": "python",
   "pygments_lexer": "ipython3",
   "version": "3.5.2"
  }
 },
 "nbformat": 4,
 "nbformat_minor": 1
}
