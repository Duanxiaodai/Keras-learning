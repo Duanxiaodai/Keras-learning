{
 "cells": [
  {
   "cell_type": "code",
   "execution_count": 44,
   "metadata": {
    "collapsed": false
   },
   "outputs": [
    {
     "name": "stdout",
     "output_type": "stream",
     "text": [
      "{'val_loss': [0.19928556308150291, 0.1948600709438324, 0.19659185409545898, 0.19497446715831757, 0.18860093504190445], 'loss': [0.42174573987722397, 0.39066227525472641, 0.37905974313616753, 0.36492739617824554, 0.35404275730252266], 'acc': [0.47500000894069672, 0.46250000223517418, 0.4375000074505806, 0.43750000558793545, 0.42500000633299351], 'val_acc': [0.75, 0.79999998211860657, 0.75, 0.79999998211860657, 0.79999998211860657]}\n",
      "[0.31524899452924726, 0.51000000089406972]\n"
     ]
    }
   ],
   "source": [
    "from keras.models import Sequential,Model,load_model\n",
    "from keras.layers import Dense,Input\n",
    "from keras.utils import plot_model\n",
    "import numpy as np\n",
    "\n",
    "'''\n",
    "随机数据\n",
    "'''\n",
    "Xtrain = np.random.random(1000).reshape(100,10)\n",
    "Ytrain = np.random.randint(low=0,high=2,size=100).reshape(100,1)\n",
    "# print(Ytrain)\n",
    "X = Input((10,))\n",
    "dense1 = Dense(units=10)(X)\n",
    "dense2 = Dense(units=1)(dense1)\n",
    "model = Model(inputs=X,outputs=dense2)\n",
    "\n",
    "model.compile(optimizer='sgd',loss='mean_squared_error',metrics=['accuracy'])\n",
    "hist = model.fit(x=Xtrain, y=Ytrain, batch_size=10, epochs=5, verbose=0,validation_split=0.2)\n",
    "print(hist.history)\n",
    "score = model.evaluate(x=Xtrain, y=Ytrain, batch_size=10, verbose=0)\n",
    "print(score)\n",
    "# # plot_model(model,to_file='daunyuefneg.png', show_shapes=True)\n",
    "# model.save('duanyuefeng.h5')\n",
    "# mode2 = load_model('duanyuefeng.h5')\n",
    "# mode2.evaluate(Xtrain,Ytrain,batch_size=10,verbose=1)"
   ]
  },
  {
   "cell_type": "code",
   "execution_count": null,
   "metadata": {
    "collapsed": true
   },
   "outputs": [],
   "source": []
  },
  {
   "cell_type": "code",
   "execution_count": null,
   "metadata": {
    "collapsed": true
   },
   "outputs": [],
   "source": []
  }
 ],
 "metadata": {
  "anaconda-cloud": {},
  "kernelspec": {
   "display_name": "Python [conda root]",
   "language": "python",
   "name": "conda-root-py"
  },
  "language_info": {
   "codemirror_mode": {
    "name": "ipython",
    "version": 3
   },
   "file_extension": ".py",
   "mimetype": "text/x-python",
   "name": "python",
   "nbconvert_exporter": "python",
   "pygments_lexer": "ipython3",
   "version": "3.5.2"
  }
 },
 "nbformat": 4,
 "nbformat_minor": 1
}
