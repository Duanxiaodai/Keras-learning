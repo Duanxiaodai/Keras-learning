{
 "cells": [
  {
   "cell_type": "code",
   "execution_count": 34,
   "metadata": {
    "collapsed": false
   },
   "outputs": [
    {
     "name": "stdout",
     "output_type": "stream",
     "text": [
      "\r",
      " 10/100 [==>...........................] - ETA: 0s"
     ]
    },
    {
     "data": {
      "text/plain": [
       "[0.27512554600834849, 0.600000011920929]"
      ]
     },
     "execution_count": 34,
     "metadata": {},
     "output_type": "execute_result"
    }
   ],
   "source": [
    "from keras.models import Sequential,Model,load_model\n",
    "from keras.layers import Dense,Input\n",
    "from keras.utils import plot_model\n",
    "import numpy as np\n",
    "\n",
    "'''\n",
    "随机数据\n",
    "'''\n",
    "Xtrain = np.random.random(1000).reshape(100,10)\n",
    "Ytrain = np.random.randint(low=0,high=2,size=100).reshape(100,1)\n",
    "# print(Ytrain)\n",
    "# X = Input((10,))\n",
    "# dense1 = Dense(units=10)(X)\n",
    "# dense2 = Dense(units=1)(dense1)\n",
    "# model = Model(inputs=X,outputs=dense2)\n",
    "\n",
    "# model.compile(optimizer='sgd',loss='mean_squared_error',metrics=['accuracy'])\n",
    "# model.fit(x=Xtrain, y=Ytrain, batch_size=10, epochs=5, verbose=1)\n",
    "\n",
    "# score = model.evaluate(x=Xtrain, y=Ytrain, batch_size=10, verbose=1)\n",
    "# print(score)\n",
    "# # plot_model(model,to_file='daunyuefneg.png', show_shapes=True)\n",
    "# model.save('duanyuefeng.h5')\n",
    "mode2 = load_model('duanyuefeng.h5')\n",
    "mode2.evaluate(Xtrain,Ytrain,batch_size=10,verbose=1)"
   ]
  },
  {
   "cell_type": "code",
   "execution_count": null,
   "metadata": {
    "collapsed": true
   },
   "outputs": [],
   "source": []
  },
  {
   "cell_type": "code",
   "execution_count": null,
   "metadata": {
    "collapsed": true
   },
   "outputs": [],
   "source": []
  }
 ],
 "metadata": {
  "anaconda-cloud": {},
  "kernelspec": {
   "display_name": "Python [conda root]",
   "language": "python",
   "name": "conda-root-py"
  },
  "language_info": {
   "codemirror_mode": {
    "name": "ipython",
    "version": 3
   },
   "file_extension": ".py",
   "mimetype": "text/x-python",
   "name": "python",
   "nbconvert_exporter": "python",
   "pygments_lexer": "ipython3",
   "version": "3.5.2"
  }
 },
 "nbformat": 4,
 "nbformat_minor": 1
}
