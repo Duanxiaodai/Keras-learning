{
 "cells": [
  {
   "cell_type": "code",
   "execution_count": 16,
   "metadata": {
    "collapsed": false
   },
   "outputs": [
    {
     "name": "stdout",
     "output_type": "stream",
     "text": [
      "Tensor(\"Mean_7:0\", shape=(), dtype=float32)\n",
      "1.0\n"
     ]
    }
   ],
   "source": [
    "from keras.models import Sequential,Model\n",
    "from keras.layers import Dense,Input\n",
    "from keras.losses import mean_squared_error\n",
    "import tensorflow as tf\n",
    "\n",
    "# y_true = tf.Tensor([1])\n",
    "# y_pred = tf.Tensor([0])\n",
    "c = tf.constant([1.0])\n",
    "d = tf.constant([0.0])\n",
    "# e = tf.matmul(c, d)\n",
    "e = mean_squared_error(c,d)\n",
    "with tf.Session() as sess:\n",
    "    print(e)\n",
    "    print(e.eval())"
   ]
  },
  {
   "cell_type": "code",
   "execution_count": null,
   "metadata": {
    "collapsed": false
   },
   "outputs": [],
   "source": []
  },
  {
   "cell_type": "code",
   "execution_count": 15,
   "metadata": {
    "collapsed": false
   },
   "outputs": [
    {
     "name": "stdout",
     "output_type": "stream",
     "text": [
      "建立的数组a为：\n",
      " [[1 2 3]\n",
      " [4 5 6]\n",
      " [7 8 9]]\n",
      "下面把数组a转化为张量：\n",
      "\n",
      "转换成的张量为：\n",
      " Tensor(\"Const_10:0\", shape=(3, 3), dtype=int32)\n",
      "下面把张量tensor_a再转化数组：\n",
      "\n",
      "转换成的数组为：\n",
      " [[1 2 3]\n",
      " [4 5 6]\n",
      " [7 8 9]]\n"
     ]
    }
   ],
   "source": [
    "import tensorflow as tf\n",
    "import numpy as np\n",
    " \n",
    "# 建立一个多维数组\n",
    "a = np.array([[1, 2, 3], [4, 5, 6], [7, 8, 9]])\n",
    "print(\"建立的数组a为：\\n\", a)\n",
    "with tf.Session() as sess:\n",
    "\tprint(\"下面把数组a转化为张量：\\n\")\n",
    "\ttensor_a = tf.convert_to_tensor(a)\n",
    "\tprint(\"转换成的张量为：\\n\", tensor_a)\n",
    "\tprint(\"下面把张量tensor_a再转化数组：\\n\")\n",
    "\ta_convert = tensor_a.eval()\n",
    "\tprint(\"转换成的数组为：\\n\", a_convert)\n"
   ]
  },
  {
   "cell_type": "code",
   "execution_count": null,
   "metadata": {
    "collapsed": true
   },
   "outputs": [],
   "source": []
  }
 ],
 "metadata": {
  "anaconda-cloud": {},
  "kernelspec": {
   "display_name": "Python [conda root]",
   "language": "python",
   "name": "conda-root-py"
  },
  "language_info": {
   "codemirror_mode": {
    "name": "ipython",
    "version": 3
   },
   "file_extension": ".py",
   "mimetype": "text/x-python",
   "name": "python",
   "nbconvert_exporter": "python",
   "pygments_lexer": "ipython3",
   "version": "3.5.2"
  }
 },
 "nbformat": 4,
 "nbformat_minor": 1
}
